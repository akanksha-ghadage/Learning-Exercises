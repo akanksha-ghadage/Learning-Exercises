{
 "cells": [
  {
   "cell_type": "code",
   "execution_count": 1,
   "id": "1ca41896-52f6-48fc-ab8b-e282bc2d5a80",
   "metadata": {},
   "outputs": [
    {
     "name": "stdout",
     "output_type": "stream",
     "text": [
      "The value of pi is 3.14\n",
      "The value of pi is 3.14\n",
      "The value of pi is 3.14\n"
     ]
    }
   ],
   "source": [
    "#IN THIS ASSIGNMENT, I DEMONSTRATED THE USE OF STRING FUNCTIONS, STRING SLICING, FOR LOOP, \n",
    "#WHILE LOOP, NESTED LOOPS AND CONTROL STATEMENTS.\n",
    "\n",
    "#Q1.Limit the decimal places to 2 digits using .format method and print result \n",
    "#for the variable pi=3.14159265359. \n",
    "\n",
    "pi= 3.14159265359\n",
    "#Method 1: Using round()\n",
    "print(\"The value of pi is\",round(pi,2))\n",
    "\n",
    "#Method 2: Using format()\n",
    "print(\"The value of pi is {:.2f}\".format(pi))\n",
    "\n",
    "#Method 3: using f-string\n",
    "print(f\"The value of pi is {pi:.2f}\")"
   ]
  },
  {
   "cell_type": "code",
   "execution_count": 2,
   "id": "b1d48819-4db3-4b8c-8738-d1e5e6c89d7b",
   "metadata": {},
   "outputs": [
    {
     "name": "stdout",
     "output_type": "stream",
     "text": [
      "to \n"
     ]
    }
   ],
   "source": [
    "#Q2.Given my_string= \"Python Course\", slice characters from index 2 to 8, \n",
    "#skipping every other character. \n",
    "\n",
    "my_string= \"Python Course\"\n",
    "print(my_string[2:8:2])\n"
   ]
  },
  {
   "cell_type": "code",
   "execution_count": 3,
   "id": "7cf18d51-0d6a-496c-9246-78ef4b2d2658",
   "metadata": {},
   "outputs": [
    {
     "name": "stdout",
     "output_type": "stream",
     "text": [
      "dh\n",
      "h\n"
     ]
    }
   ],
   "source": [
    "#Q3.For my_string= \"Madhav\" and my_string2=\"Madhava\" extract middle character(s).\n",
    "\n",
    "my_string= \"Madhav\"\n",
    "my_string2= \"Madhava\"\n",
    "\n",
    "def mid_str(word):\n",
    "    middle= int(len(word)/2)\n",
    "    if len(word) % 2== 0:\n",
    "        return word[middle-1: middle+1]\n",
    "    else:\n",
    "        return word[middle]\n",
    "        \n",
    "print(mid_str(my_string))\n",
    "print(mid_str(my_string2))"
   ]
  },
  {
   "cell_type": "code",
   "execution_count": 4,
   "id": "7b55d77e-4899-40da-a13e-4dd0cc5a5e9a",
   "metadata": {},
   "outputs": [
    {
     "name": "stdout",
     "output_type": "stream",
     "text": [
      "ression Analy\n"
     ]
    }
   ],
   "source": [
    "#Q4.Given my_string= \"Regression Analysis\", remove first 3 and last 3 characters.\n",
    "\n",
    "my_string= \"Regression Analysis\"\n",
    "print(my_string[3:-3])"
   ]
  },
  {
   "cell_type": "code",
   "execution_count": 5,
   "id": "1884ac30-78d2-4688-9491-9402036207d6",
   "metadata": {},
   "outputs": [
    {
     "name": "stdout",
     "output_type": "stream",
     "text": [
      "tion\n"
     ]
    }
   ],
   "source": [
    "#Q5.For my_string= \"Classification\", slice the string from the 4th character \n",
    "#from the end to the last character.  \n",
    "\n",
    "my_string= \"Classification\"\n",
    "print(my_string[-4:])\n"
   ]
  },
  {
   "cell_type": "code",
   "execution_count": 6,
   "id": "fe42c4ee-2667-4c3c-9088-7de139ce2016",
   "metadata": {},
   "outputs": [
    {
     "name": "stdout",
     "output_type": "stream",
     "text": [
      "nohtyP\n"
     ]
    }
   ],
   "source": [
    "#Q6.Reverse a string using python string methods?\n",
    "\n",
    "word= \"Python\"\n",
    "print(word[::-1])\n"
   ]
  },
  {
   "cell_type": "code",
   "execution_count": 7,
   "id": "14641ac6-b2ac-43f7-8f92-da38b90fa738",
   "metadata": {},
   "outputs": [
    {
     "name": "stdout",
     "output_type": "stream",
     "text": [
      "naman is a palindrome.\n"
     ]
    }
   ],
   "source": [
    "#Q7.Write a python function to check if a string is a palindrome using string methods.\n",
    "\n",
    "word= \"naman\"\n",
    "\n",
    "def is_palindrome(s):\n",
    "    if s== s[::-1]:\n",
    "        print(f\"{s} is a palindrome.\")\n",
    "    else:\n",
    "            print(f\"{s} is not a palindrome.\")\n",
    "\n",
    "is_palindrome(word)\n"
   ]
  },
  {
   "cell_type": "code",
   "execution_count": 8,
   "id": "7870340b-b1fe-40e8-89b0-da8e5944656a",
   "metadata": {},
   "outputs": [
    {
     "name": "stdout",
     "output_type": "stream",
     "text": [
      "1\n",
      "2\n",
      "3\n",
      "4\n",
      "5\n"
     ]
    }
   ],
   "source": [
    "#Q8.Print numbers from 1 to 5 using while loop.\n",
    "\n",
    "count = 1\n",
    "while count< 6:\n",
    "    print(count)\n",
    "    count+= 1"
   ]
  },
  {
   "cell_type": "code",
   "execution_count": 9,
   "id": "97f39a2e-89ce-488a-b570-f9df6f789eee",
   "metadata": {},
   "outputs": [
    {
     "name": "stdout",
     "output_type": "stream",
     "text": [
      "5\n",
      "4\n",
      "3\n",
      "2\n",
      "1\n"
     ]
    }
   ],
   "source": [
    "#Q9.Print numbers from 1 to 5 using while loop in reverse order.\n",
    "\n",
    "count = 5\n",
    "while count > 0:\n",
    "    print(count)\n",
    "    count -= 1"
   ]
  },
  {
   "cell_type": "code",
   "execution_count": 10,
   "id": "eb0cd3dd-5f98-463b-babe-e45c749e2aa3",
   "metadata": {},
   "outputs": [
    {
     "name": "stdout",
     "output_type": "stream",
     "text": [
      "P\n",
      "y\n",
      "t\n",
      "h\n",
      "o\n",
      "n\n"
     ]
    }
   ],
   "source": [
    "#Q10.Iterate over each character in language. language = 'Python'.\n",
    "\n",
    "language = 'Python'\n",
    "for x in language:\n",
    "    print(x)\n"
   ]
  },
  {
   "cell_type": "code",
   "execution_count": 11,
   "id": "a6f94a6d-bfd0-4f78-b0c8-742b7c714708",
   "metadata": {},
   "outputs": [
    {
     "name": "stdout",
     "output_type": "stream",
     "text": [
      "1\n",
      "4\n",
      "7\n",
      "10\n"
     ]
    }
   ],
   "source": [
    "#Q11.Print numbers from 1 to 10 skipping every 2 numbers using for loop.\n",
    "\n",
    "for i in range(1,11,3):\n",
    "    print(i)"
   ]
  },
  {
   "cell_type": "code",
   "execution_count": 12,
   "id": "81fb03b9-d686-47f6-bcf8-a08a5eaa0375",
   "metadata": {},
   "outputs": [
    {
     "name": "stdout",
     "output_type": "stream",
     "text": [
      "1\n",
      "2\n",
      "3\n",
      "4\n",
      "6\n",
      "7\n",
      "8\n",
      "9\n",
      "10\n"
     ]
    }
   ],
   "source": [
    "#Q12.Print all numbers from 1 to 10 except 5.\n",
    "\n",
    "for i in range(1,11):\n",
    "    if i == 5:\n",
    "        continue\n",
    "    print(i)"
   ]
  },
  {
   "cell_type": "code",
   "execution_count": 13,
   "id": "ad10b4a0-58cc-446f-9240-4345071646db",
   "metadata": {},
   "outputs": [
    {
     "name": "stdout",
     "output_type": "stream",
     "text": [
      "1\n",
      "2\n",
      "3\n",
      "_ _ _\n",
      "1\n",
      "2\n",
      "3\n",
      "_ _ _\n",
      "1\n",
      "2\n",
      "3\n",
      "_ _ _\n",
      "\n",
      "\n",
      "1\n",
      "2\n",
      "3\n",
      "_ _ _\n",
      "1\n",
      "2\n",
      "3\n",
      "_ _ _\n",
      "1\n",
      "2\n",
      "3\n",
      "_ _ _\n"
     ]
    }
   ],
   "source": [
    "#Q13.Print numbers from 1 to 3 three times.\n",
    "\n",
    "#Method 1: Using For Loop\n",
    "for i in range(3):\n",
    "    for j in range(1,4):\n",
    "        print(j)\n",
    "    print(\"_ _ _\")\n",
    "\n",
    "#Method 2: Using While-For Loop\n",
    "print(\"\\n\")\n",
    "i = 1\n",
    "while i < 4:\n",
    "    for j in range(1,4):\n",
    "        print(j)\n",
    "    print(\"_ _ _\")\n",
    "    i += 1"
   ]
  },
  {
   "cell_type": "code",
   "execution_count": 14,
   "id": "2b2aafd9-9ae7-472a-b018-d85709e27af7",
   "metadata": {},
   "outputs": [
    {
     "name": "stdout",
     "output_type": "stream",
     "text": [
      "2\n",
      "3\n",
      "5\n",
      "7\n"
     ]
    }
   ],
   "source": [
    "#Q14.Print prime numbers between range of 2 to 10 using nested loop.\n",
    "\n",
    "for num in range(2,10):\n",
    "    for i in range(2,num):\n",
    "        if num % i == 0:\n",
    "            break\n",
    "    else:\n",
    "        print(num)\n",
    "        "
   ]
  }
 ],
 "metadata": {
  "kernelspec": {
   "display_name": "Python [conda env:base] *",
   "language": "python",
   "name": "conda-base-py"
  },
  "language_info": {
   "codemirror_mode": {
    "name": "ipython",
    "version": 3
   },
   "file_extension": ".py",
   "mimetype": "text/x-python",
   "name": "python",
   "nbconvert_exporter": "python",
   "pygments_lexer": "ipython3",
   "version": "3.12.7"
  }
 },
 "nbformat": 4,
 "nbformat_minor": 5
}
