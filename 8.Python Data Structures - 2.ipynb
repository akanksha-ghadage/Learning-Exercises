{
 "cells": [
  {
   "cell_type": "code",
   "execution_count": 1,
   "id": "604d23d5-8cb7-4f53-93a6-dd22ed4d52ae",
   "metadata": {},
   "outputs": [
    {
     "name": "stdout",
     "output_type": "stream",
     "text": [
      "25\n",
      "100\n"
     ]
    }
   ],
   "source": [
    "#IN THIS ASSIGNMENT I CONTINUED PRACTICE OF PYTHON KEY DATA STRUCTURES-\n",
    "#LISTS, TUPLES, SETS, DICTIONARIES - USING VARIOUS METHODS.\n",
    "\n",
    "#Q1.Write a lambda function that takes a number and returns its square.\n",
    "\n",
    "square = lambda x:x**2\n",
    "print(square(5))\n",
    "print(square(10))\n"
   ]
  },
  {
   "cell_type": "code",
   "execution_count": 2,
   "id": "0e1a9bc5-9bb4-49cb-9070-f3b7449434d6",
   "metadata": {},
   "outputs": [
    {
     "name": "stdout",
     "output_type": "stream",
     "text": [
      "Not Found\n"
     ]
    }
   ],
   "source": [
    "#Q2.Find the index of an element in a tuple.\n",
    "\n",
    "my_tuple = (1, 100, 50, 5)\n",
    "\n",
    "def find_index(tup, elem):\n",
    "    return tup.index(elem) if elem in tup else \"Not Found\"\n",
    "\n",
    "print(find_index(my_tuple,60))\n",
    "    "
   ]
  },
  {
   "cell_type": "code",
   "execution_count": 3,
   "id": "5fe412f5-2f6e-4b36-b77d-593477b6cbd0",
   "metadata": {},
   "outputs": [
    {
     "name": "stdout",
     "output_type": "stream",
     "text": [
      "1\n"
     ]
    }
   ],
   "source": [
    "#Q3.Find the most frequent value in a dictionary.\n",
    "\n",
    "data = {'a':1, 'b':2, 'c':1, 'd':3, 'e':1}\n",
    "\n",
    "def most_freq(dict):\n",
    "    frequency = {}     #Cretaed an empty dictionary to keep track of \n",
    "                       #how many times each value appears.\n",
    "\n",
    "    \n",
    "    for value in dict.values():   \n",
    "        if value not in frequency:    #If value is not already in frequency, set its count to 0.\n",
    "            frequency[value] = 0      #Then, increase its count by 1.\n",
    "        frequency[value] += 1         #1:1 , 2:1, 1:2, 3:1, 1:3- value 1 appears 3 times\n",
    "\n",
    "    \n",
    "    max_value = max(frequency, key = frequency.get)  \n",
    "                           #max(frequency) by default just gives the largest key, Output will be: 3\n",
    "                           #key = frequency.get means max() function can take a key parameter.\n",
    "    return max_value\n",
    "    \n",
    "print(most_freq(data))\n"
   ]
  },
  {
   "cell_type": "code",
   "execution_count": 4,
   "id": "3ce5d4bd-a2f5-449a-9f1b-f545c6e85e14",
   "metadata": {},
   "outputs": [
    {
     "name": "stdout",
     "output_type": "stream",
     "text": [
      "{'a': 10, 'b': 35, 'c': 65, 'd': 25}\n"
     ]
    }
   ],
   "source": [
    "#Q4.Merge dictionaries with summation.\n",
    "\n",
    "dict1 = {'a':10, 'b':20, 'c':30}\n",
    "dict2 = {'b':15, 'c':35, 'd':25}\n",
    "\n",
    "def merge_dict(dict1, dict2):\n",
    "    result = dict1.copy()     #Creates a copy so original dict1 is not modified\n",
    "    for key, value in dict2.items():  \n",
    "        if key in result :\n",
    "            result[key] += value     #Add values if key already exists\n",
    "        else:\n",
    "            result[key] = value      #Otherwise, just add the new key-value\n",
    "    return result\n",
    "\n",
    "print(merge_dict(dict1, dict2))\n"
   ]
  },
  {
   "cell_type": "code",
   "execution_count": 5,
   "id": "2b3deb9d-5896-481e-8cfd-a9685702b494",
   "metadata": {},
   "outputs": [
    {
     "name": "stdout",
     "output_type": "stream",
     "text": [
      "{'a.b.c': 42, 'a.d': 7, 'e': 10}\n"
     ]
    }
   ],
   "source": [
    "#Q5.Flatten a nested dictionary.\n",
    "\n",
    "data = {'a': {'b': {'c': 42}, 'd': 7}, 'e': 10}\n",
    "\n",
    "def flatten_dict(data, parent_key= '', sep ='.'): \n",
    "                     #parent_key: holds the keys from the outer level(starts empty) like 'a.b'\n",
    "                     #separator used to join keys.  \n",
    "    \n",
    "    items = {}       #Empty dictionary to store the result\n",
    "    \n",
    "    for key, value in data.items():     \n",
    "        \n",
    "        new_key = f\"{parent_key}{sep}{key}\" if parent_key else key\n",
    "                #If parent_key is empty(top level), use just the key\n",
    "                #If we are inside another dictionary, join the previous key and current key with a dot\n",
    "        \n",
    "        if isinstance(value, dict):      #Checks if the value is a dictionary\n",
    "            \n",
    "            items.update(flatten_dict(value, new_key, sep))      \n",
    "                #If the value is another dictionary, call the same function again(Recursion)\n",
    "                #Add the result of that into items dictionary\n",
    "        \n",
    "        else:\n",
    "            items[new_key] = value    #If value is not a dictionary, store it in items using the new_key\n",
    "    return items\n",
    "\n",
    "print(flatten_dict(data))\n"
   ]
  },
  {
   "cell_type": "code",
   "execution_count": 6,
   "id": "13d5c35c-e165-4942-b013-efb23987f922",
   "metadata": {},
   "outputs": [
    {
     "name": "stdout",
     "output_type": "stream",
     "text": [
      "[1, 2, 4, 5, 9]\n",
      "[1, 2, 4, 5, 9]\n",
      "[9, 6, 5, 3, 1]\n"
     ]
    }
   ],
   "source": [
    "#Q6.Sort a list of numbers in both ascending and descending order.\n",
    "\n",
    "#Method 1:\n",
    "num = [4,2,9,1,5]\n",
    "print(sorted(num))\n",
    "\n",
    "#Method 2:\n",
    "num.sort()\n",
    "print(num)\n",
    "\n",
    "#Descending order:\n",
    "num1 = [3,5,6,1,9]\n",
    "print(sorted(num1, reverse = True))\n"
   ]
  },
  {
   "cell_type": "code",
   "execution_count": 7,
   "id": "3cf22ad0-e876-414b-8a1b-2aba601f0c90",
   "metadata": {},
   "outputs": [
    {
     "name": "stdout",
     "output_type": "stream",
     "text": [
      "brand => Toyota\n",
      "model => Camry\n",
      "year => 2025\n"
     ]
    }
   ],
   "source": [
    "#Q7.car = {\"brand\":\"Toyota\", \"model\":\"Camry\", \"year\":2025}\n",
    "#Print each key and value in given format. brand => Toyota\n",
    "#                                          model => Camry\n",
    "#                                          year => 2025\n",
    "\n",
    "\n",
    "car = {\"brand\":\"Toyota\", \"model\":\"Camry\", \"year\":2025}\n",
    "\n",
    "for key, value in car.items():      \n",
    "            # .items() is a dictionary method used to get both keys and values together\n",
    "    print(key, \"=>\", value)\n",
    "    "
   ]
  },
  {
   "cell_type": "code",
   "execution_count": 8,
   "id": "f8c01ba0-2e1c-4095-93bc-ebd2ef8ec209",
   "metadata": {},
   "outputs": [
    {
     "name": "stdout",
     "output_type": "stream",
     "text": [
      "20\n",
      "c\n",
      "Alice\n",
      "200\n",
      "100\n",
      "400\n",
      "300\n"
     ]
    }
   ],
   "source": [
    "#Q8-a.How do you access the 2nd item in a list?\n",
    "my_list = [10,20,30,40]\n",
    "print(my_list[1])\n",
    "\n",
    "#b.How do you access the 3rd item in a tuple?\n",
    "my_tuple = ('a','b','c','d')\n",
    "print(my_tuple[2])\n",
    "\n",
    "#c.How do you get the value of the key \"name\" from a dictionary?\n",
    "my_dict = {\"name\":\"Alice\", \"age\":25}\n",
    "print(my_dict[\"name\"])\n",
    "\n",
    "#d.Can you access an item by index in a set?\n",
    "my_set = {100,200,300,400}    #sets are unordered so you cannot access by index\n",
    "for item in my_set:           #Iteration is the way to access\n",
    "    print(item)\n",
    "    "
   ]
  },
  {
   "cell_type": "code",
   "execution_count": 9,
   "id": "1b481736-5716-49e8-b9c0-959df8a8c22c",
   "metadata": {},
   "outputs": [
    {
     "name": "stdout",
     "output_type": "stream",
     "text": [
      "{'c': 2, 'a': 5, 'd': 7, 'b': 9}\n"
     ]
    }
   ],
   "source": [
    "#Q9.Sort a dictionary by values.\n",
    "\n",
    "data = {'a': 5, 'b': 9, 'c': 2, 'd': 7}\n",
    "\n",
    "def sort_by_values(data):\n",
    "    \n",
    "    sorted_items = sorted(data.items(), key = lambda item: item[1])\n",
    "            # .items() - convert dictionary to list of tuples eg. ('a',5)\n",
    "            #sorted() - sort the list of tuples \n",
    "            #item[1] - sort by index value 1 [i.e.('a',5): a =index 0, b= index 1]\n",
    "    \n",
    "    return{key: value for key, value in sorted_items}    #convert back to dictionary\n",
    "\n",
    "print(sort_by_values(data))\n"
   ]
  }
 ],
 "metadata": {
  "kernelspec": {
   "display_name": "Python [conda env:base] *",
   "language": "python",
   "name": "conda-base-py"
  },
  "language_info": {
   "codemirror_mode": {
    "name": "ipython",
    "version": 3
   },
   "file_extension": ".py",
   "mimetype": "text/x-python",
   "name": "python",
   "nbconvert_exporter": "python",
   "pygments_lexer": "ipython3",
   "version": "3.12.7"
  }
 },
 "nbformat": 4,
 "nbformat_minor": 5
}
