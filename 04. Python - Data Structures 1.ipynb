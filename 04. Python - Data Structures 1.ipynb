{
 "cells": [
  {
   "cell_type": "code",
   "execution_count": 1,
   "id": "51c4bb71-1a47-4b79-ac97-8c5e51508da6",
   "metadata": {},
   "outputs": [
    {
     "name": "stdout",
     "output_type": "stream",
     "text": [
      "[1, 2, 3, 4, 5, 6]\n",
      "[1, 2, 3, 4, 5, 6]\n"
     ]
    }
   ],
   "source": [
    "#THIS ASSIGNMENT COVERS KEY DATA STRUCTURES AND COMMON OPERATIONS INCLUDING LISTS, TUPLES\n",
    "#SETS, DICTIONARIES, LIST COMPREHENSION AND RELATED METHODS.\n",
    "\n",
    "#Q1.Write a python program using list comprehension to flatten the list into a single list.\n",
    "\n",
    "#Method 1:\n",
    "nested_list = [[1,2], [3,4], [5,6]]\n",
    "result = [item for sublist in nested_list for item in sublist]  \n",
    "                        #item for sublist in nested_list = loop through each sublist\n",
    "                        #for item in sublist = then loop through each item in that sublist.                       \n",
    "print(result)\n",
    "\n",
    "#Method 2:\n",
    "nested_list = [[1,2], [3,4], [5,6]]\n",
    "def flatten_list(lst):\n",
    "    return[item for sublist in lst for item in sublist]\n",
    "\n",
    "final_list = flatten_list(nested_list)\n",
    "print(final_list)\n"
   ]
  },
  {
   "cell_type": "code",
   "execution_count": 2,
   "id": "b9409383-ab4e-41fe-823b-316e0852c98c",
   "metadata": {},
   "outputs": [
    {
     "name": "stdout",
     "output_type": "stream",
     "text": [
      "Original tuple: (10, 3, 5, 1)\n",
      "Sorted List: [1, 3, 5, 10]\n",
      "Sorted Tuple: (1, 3, 5, 10)\n"
     ]
    }
   ],
   "source": [
    "#Q2.Can you sort a tuple in python? if so, how?\n",
    "\n",
    "my_tuple = (10,3,5,1)     #Tuples are immutable in python, however can be sorted by converting to a list\n",
    "sorted_list = sorted(my_tuple)       #Convert to a list and sort\n",
    "sorted_tuple = tuple(sorted_list)    #Convert back to tuple \n",
    "\n",
    "print(\"Original tuple:\", my_tuple)\n",
    "print(\"Sorted List:\", sorted_list)\n",
    "print(\"Sorted Tuple:\", sorted_tuple)\n"
   ]
  },
  {
   "cell_type": "code",
   "execution_count": 3,
   "id": "61a85a6b-78cd-444e-bf4f-7ff66637b126",
   "metadata": {},
   "outputs": [
    {
     "name": "stdout",
     "output_type": "stream",
     "text": [
      "<class 'int'>\n",
      "<class 'tuple'>\n"
     ]
    }
   ],
   "source": [
    "#Q3.Define a tuple with only one element.\n",
    "\n",
    "a = (5)    #Not a tuple\n",
    "b = (5,)   #Tuple\n",
    "print(type(a))\n",
    "print(type(b))\n"
   ]
  },
  {
   "cell_type": "code",
   "execution_count": 4,
   "id": "85746c92-cccc-4846-a903-4a46698670aa",
   "metadata": {},
   "outputs": [
    {
     "name": "stdout",
     "output_type": "stream",
     "text": [
      "40\n",
      "10\n",
      "20\n",
      "30\n",
      "\n",
      "\n",
      "40\n",
      "10\n",
      "20\n",
      "30\n"
     ]
    }
   ],
   "source": [
    "#Q4.Write a code to iterate over a set using a while loop.\n",
    "\n",
    "#Method 1:Using for loop\n",
    "my_set = {10,20,30,40}\n",
    "for i in my_set:\n",
    "    print(i)\n",
    "\n",
    "print(\"\\n\")\n",
    "\n",
    "#Method 2: Using while loop\n",
    "my_set = {10,20,30,40}      #Sets are unordered and unindexed, so iteration order may vary\n",
    "my_list = list(my_set)      #Convert the set to a list to use index-based access in a while loop\n",
    "\n",
    "i = 0\n",
    "while i < len(my_list):    \n",
    "    print(my_list[i])\n",
    "    i += 1\n"
   ]
  },
  {
   "cell_type": "code",
   "execution_count": 5,
   "id": "53fee5ac-2ff6-447c-b1c7-38ae66d66bd9",
   "metadata": {},
   "outputs": [
    {
     "name": "stdout",
     "output_type": "stream",
     "text": [
      "Priya's grade: Absent\n"
     ]
    }
   ],
   "source": [
    "#Q5.Write a program that returns a student's grade using get(), and returns \"Absent\"\n",
    "#if the student is not in the dictionary.\n",
    "\n",
    "grades = {\n",
    "    \"Amit\": \"A\", \n",
    "    \"Ravi\": \"B\",\n",
    "    \"Vishal\": \"A+\"\n",
    "}\n",
    "\n",
    "student_name = \"Priya\"\n",
    "grade = grades.get(student_name, \"Absent\")\n",
    "print(f\"{student_name}'s grade: {grade}\")\n"
   ]
  },
  {
   "cell_type": "code",
   "execution_count": 6,
   "id": "a687548b-9138-4b28-baf8-84cdeff00816",
   "metadata": {},
   "outputs": [
    {
     "name": "stdout",
     "output_type": "stream",
     "text": [
      "Removed: 90\n",
      "Updated Dictionary: {'SQL': 92, 'Power BI': 96}\n"
     ]
    }
   ],
   "source": [
    "#Q6.How do you remove a key 'Python' from a dictionary and store its value in another variable?\n",
    "\n",
    "marks = {\"Python\": 90, \"SQL\": 92, \"Power BI\": 96}\n",
    "value = marks.pop(\"Python\")     #pop() method remove a key and return its value\n",
    "print(\"Removed:\", value)\n",
    "print(\"Updated Dictionary:\", marks)\n"
   ]
  },
  {
   "cell_type": "code",
   "execution_count": 7,
   "id": "a9f963b6-f096-43fc-a1a7-92b5f9c6320f",
   "metadata": {},
   "outputs": [
    {
     "name": "stdout",
     "output_type": "stream",
     "text": [
      "[4, 5, 6]\n",
      "[4, 5, 6]\n"
     ]
    }
   ],
   "source": [
    "#Q7.Find the intersection of two lists.\n",
    "\n",
    "list1 = [1,2,4,5,6]\n",
    "list2 = [4,5,6,7,8]\n",
    "\n",
    "#Method 1: Using for loop\n",
    "def intersection_loop(lst1, lst2):\n",
    "    common_list = []\n",
    "    for item in lst1:\n",
    "        if item in lst2 and item not in common_list:\n",
    "            common_list.append(item)     #append() add an item to the end of a list\n",
    "    return common_list\n",
    "\n",
    "print(intersection_loop(list1, list2))\n",
    "\n",
    "\n",
    "#Method 2: Using list comprehension\n",
    "def intersection_comp(lst1, lst2):\n",
    "    return[item for item in lst1 if item in lst2]\n",
    "\n",
    "print(intersection_comp(list1, list2))\n"
   ]
  },
  {
   "cell_type": "code",
   "execution_count": 8,
   "id": "49ef50aa-8c3a-46a4-940b-0f01abfb1565",
   "metadata": {},
   "outputs": [
    {
     "name": "stdout",
     "output_type": "stream",
     "text": [
      "The most frequent element is: 3\n"
     ]
    }
   ],
   "source": [
    "#Q8.Find the most frequent element in a list?\n",
    "\n",
    "numbers = [1,2,2,3,3,3,4]\n",
    "\n",
    "def most_freq(lst):\n",
    "    max_count = 0\n",
    "    most_freq = None\n",
    "    \n",
    "    for item in lst:\n",
    "        count = lst.count(item)\n",
    "        if count > max_count:\n",
    "            max_count = count\n",
    "            most_freq = item\n",
    "    return most_freq\n",
    "\n",
    "print(\"The most frequent element is:\", most_freq(numbers))\n"
   ]
  },
  {
   "cell_type": "code",
   "execution_count": 9,
   "id": "5edeb663-ec4b-4f84-8da2-b0a442cb7002",
   "metadata": {},
   "outputs": [
    {
     "name": "stdout",
     "output_type": "stream",
     "text": [
      "[1, 3, 6, 10]\n",
      "[1, 3, 6, 10]\n"
     ]
    }
   ],
   "source": [
    "#Q9.Find cumulative sum of a list.\n",
    "\n",
    "numbers = [1,2,3,4]\n",
    "\n",
    "#Method 1:\n",
    "def cumulative_sum(lst):\n",
    "    sum = []\n",
    "    total = 0\n",
    "    for num in lst:\n",
    "        total += num\n",
    "        sum.append(total)   \n",
    "    return sum\n",
    "\n",
    "print(cumulative_sum(numbers))\n",
    "\n",
    "\n",
    "#Method 2: Using list comprehension\n",
    "print([sum(numbers[:i + 1]) for i in range(len(numbers))])\n"
   ]
  },
  {
   "cell_type": "code",
   "execution_count": 10,
   "id": "4d16728d-1c87-46a8-b20f-cba5e8bc1914",
   "metadata": {},
   "outputs": [
    {
     "name": "stdout",
     "output_type": "stream",
     "text": [
      "The empty set: set()\n",
      "The full set: {1, 2, 3, 4}\n"
     ]
    }
   ],
   "source": [
    "#Q10.Write a program to create an empty set and a set with elements. \n",
    "#Explain why {} cannot be used to create an empty set.\n",
    "\n",
    "empty_set = set()                             #{}    :  Empty dictionary\n",
    "print(\"The empty set:\", empty_set)            #set() :  Empty set\n",
    "                                              #{1,2} :  Set with elements\n",
    "full_set = {1,2,3,4}\n",
    "print(\"The full set:\", full_set)\n"
   ]
  },
  {
   "cell_type": "code",
   "execution_count": 11,
   "id": "a0587432-017c-49b6-9be2-c03bb7611b17",
   "metadata": {},
   "outputs": [
    {
     "name": "stdout",
     "output_type": "stream",
     "text": [
      "Updated list: ['apple', 'banana', 'kiwi', 'mango']\n",
      "Updated list: ['apple', 'banana', 'kiwi', 'mango']\n",
      "Updated list ['apple', 'mango', 'banana', 'kiwi']\n"
     ]
    }
   ],
   "source": [
    "#Q11.Remove Duplicates from a List.\n",
    "\n",
    "fruits = [\"apple\", \"banana\", \"kiwi\", \"mango\", \"apple\", \"banana\"]\n",
    "\n",
    "#Method 1:Optimized Method\n",
    "def remove_duplicates(lst):\n",
    "    unique = []        #List to store unique items in order\n",
    "    seen = set()       #Set to keep track of items already encountered\n",
    "    \n",
    "    for item in lst: \n",
    "        if item not in seen:        #Check if item is not already seen\n",
    "            unique.append(item)     #Add item to the unique list\n",
    "            seen.add(item)          #Mark item as seen by adding to the set\n",
    "    return unique\n",
    "    \n",
    "print(\"Updated list:\", remove_duplicates(fruits)) \n",
    "\n",
    "\n",
    "#Method 2:Not ideal for large dataset \n",
    "def remove_duplicates1(lst):\n",
    "    unique = []\n",
    "    for item in lst: \n",
    "        if item not in unique:\n",
    "            unique.append(item)\n",
    "    return unique\n",
    "    \n",
    "print(\"Updated list:\", remove_duplicates1(fruits))\n",
    "\n",
    "#Method 3: Using set constructor - as set contains only unique elements.\n",
    "print(\"Updated list\", list(set(fruits)))\n"
   ]
  }
 ],
 "metadata": {
  "kernelspec": {
   "display_name": "Python [conda env:base] *",
   "language": "python",
   "name": "conda-base-py"
  },
  "language_info": {
   "codemirror_mode": {
    "name": "ipython",
    "version": 3
   },
   "file_extension": ".py",
   "mimetype": "text/x-python",
   "name": "python",
   "nbconvert_exporter": "python",
   "pygments_lexer": "ipython3",
   "version": "3.12.7"
  }
 },
 "nbformat": 4,
 "nbformat_minor": 5
}
