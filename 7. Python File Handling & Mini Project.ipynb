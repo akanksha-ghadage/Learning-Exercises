{
 "cells": [
  {
   "cell_type": "code",
   "execution_count": 1,
   "id": "62e80a82-299b-4a08-9534-a47a07a1c049",
   "metadata": {},
   "outputs": [
    {
     "name": "stdout",
     "output_type": "stream",
     "text": [
      "Average Sales per Category:\n",
      "Category\n",
      "Electronics    126.666667\n",
      "Furniture      210.000000\n",
      "Grocery         80.000000\n",
      "Name: Sales, dtype: float64\n"
     ]
    }
   ],
   "source": [
    "#THIS ASSIGNMENT INCLUDES FILE HANDLING AND A MINI PROJECT ON PASSWORD STRENGTH CHECKER.\n",
    " \n",
    "#Q1.How can you use the Pandas library to find the average sales for each product category in a dataset?\n",
    "\n",
    "import pandas as pd\n",
    "\n",
    "data = {\n",
    "    'Product': ['A', 'B', 'A', 'C', 'B', 'A'],\n",
    "    'Category': ['Electronics', 'Furniture', 'Electronics', 'Grocery', 'Furniture', 'Electronics'],\n",
    "    'Sales': [100, 200, 150, 80, 220, 130]\n",
    "}\n",
    "\n",
    "df = pd.DataFrame(data)\n",
    "average_sales = df.groupby('Category')['Sales'].mean()\n",
    "\n",
    "print(\"Average Sales per Category:\")\n",
    "print(average_sales)\n"
   ]
  },
  {
   "cell_type": "code",
   "execution_count": 2,
   "id": "9a253612-2d88-4a46-bcee-7b94c4613b23",
   "metadata": {},
   "outputs": [
    {
     "name": "stdout",
     "output_type": "stream",
     "text": [
      "File 'my_file.txt' created and written successfully!\n"
     ]
    }
   ],
   "source": [
    "#Q2.Create a file and write multiple lines using Python?\n",
    "\n",
    "with open(\"my_file.txt\", \"w\") as file:           #with open() auto closes the file after the block ends\n",
    "                                                 #Using \"w\" overwrites the whole file\n",
    "    file.write(\"Hello, I am Akanksha.\\n\")\n",
    "    file.write(\"I am learning Python.\\n\")      \n",
    "\n",
    "print(\"File 'my_file.txt' created and written successfully!\")\n"
   ]
  },
  {
   "cell_type": "code",
   "execution_count": 3,
   "id": "0874d917-72b9-4082-ab36-3c0e9ef5625c",
   "metadata": {},
   "outputs": [
    {
     "name": "stdout",
     "output_type": "stream",
     "text": [
      "Read using read():\n",
      "Hello, I am Akanksha.\n",
      "I am learning Python.\n",
      "\n",
      "Read using readline():\n",
      "Hello, I am Akanksha.\n",
      "\n",
      "Read using readlines():\n",
      "['Hello, I am Akanksha.\\n', 'I am learning Python.\\n']\n"
     ]
    }
   ],
   "source": [
    "#Q3.Open the file my_file.txt and read it using read(), readline() and raedlines().\n",
    "#Print the output of all three methods.\n",
    "\n",
    "with open(\"my_file.txt\", \"r\") as file:\n",
    "    all_text = file.read()\n",
    "    print(\"Read using read():\")\n",
    "    print(all_text)\n",
    "\n",
    "with open(\"my_file.txt\", \"r\") as file:\n",
    "    first_line = file.readline()\n",
    "    print(\"Read using readline():\")\n",
    "    print(first_line)\n",
    "\n",
    "with open(\"my_file.txt\", \"r\") as file:\n",
    "    lines = file.readlines()\n",
    "    print(\"Read using readlines():\")\n",
    "    print(lines)\n",
    "    "
   ]
  },
  {
   "cell_type": "code",
   "execution_count": 4,
   "id": "0cfa83f6-65f8-43e3-a4b7-5b8378821119",
   "metadata": {},
   "outputs": [
    {
     "name": "stdout",
     "output_type": "stream",
     "text": [
      "Updated file content:\n",
      "Hello, I am Akanksha.\n",
      "I am learning Python.\n",
      "I like Python better than c++.\n",
      "\n"
     ]
    }
   ],
   "source": [
    "#Q4. Write a Python program that: Open the file my_file.txt in append mode. \n",
    "#Add a new line to the end of the file and prints the updated content using read().\n",
    "\n",
    "with open(\"my_file.txt\", \"a\") as file:\n",
    "    file.write(\"I like Python better than c++.\\n\")\n",
    "\n",
    "with open(\"my_file.txt\", \"r\") as file:\n",
    "    content = file.read()\n",
    "    print(\"Updated file content:\")\n",
    "    print(content)\n"
   ]
  },
  {
   "cell_type": "code",
   "execution_count": 5,
   "id": "dec2ed7c-b471-4864-909b-2337b78f26aa",
   "metadata": {},
   "outputs": [
    {
     "name": "stdout",
     "output_type": "stream",
     "text": [
      "Welcome to the Password Strength Checker!\n"
     ]
    },
    {
     "name": "stdin",
     "output_type": "stream",
     "text": [
      "\n",
      "Enter your password (or type 'exit' to quit):  akanksha\n"
     ]
    },
    {
     "name": "stdout",
     "output_type": "stream",
     "text": [
      "Weak: Password must include at least one number.\n"
     ]
    },
    {
     "name": "stdin",
     "output_type": "stream",
     "text": [
      "\n",
      "Enter your password (or type 'exit' to quit):  akanksha1\n"
     ]
    },
    {
     "name": "stdout",
     "output_type": "stream",
     "text": [
      "Weak: Password must include at least one uppercase letter.\n"
     ]
    },
    {
     "name": "stdin",
     "output_type": "stream",
     "text": [
      "\n",
      "Enter your password (or type 'exit' to quit):  Akanksha1\n"
     ]
    },
    {
     "name": "stdout",
     "output_type": "stream",
     "text": [
      "Medium: Add special characters to make your password stronger.\n"
     ]
    },
    {
     "name": "stdin",
     "output_type": "stream",
     "text": [
      "\n",
      "Enter your password (or type 'exit' to quit):  Akanksha@1\n"
     ]
    },
    {
     "name": "stdout",
     "output_type": "stream",
     "text": [
      "Strong: Your password is secure!\n"
     ]
    },
    {
     "name": "stdin",
     "output_type": "stream",
     "text": [
      "\n",
      "Enter your password (or type 'exit' to quit):  exit\n"
     ]
    },
    {
     "name": "stdout",
     "output_type": "stream",
     "text": [
      "Thank you for using the Password Strength Checker! Goodbye!\n"
     ]
    }
   ],
   "source": [
    "#Q5.PYTHON PROJECT - PASSWORD STRENGTH CHECKER.\n",
    "#The program helps users create secure passwords by providing feedback ON\n",
    "#password quality and suggesting improvements.\n",
    "\n",
    "import re                               #regular expression library for special characters\n",
    "\n",
    "def check_password_strength(password):\n",
    "    if len(password) < 8:\n",
    "        return \"Weak: Password must be at least 8 characters long.\"\n",
    "    \n",
    "    if not any(char.isdigit() for char in password):\n",
    "        return \"Weak: Password must include at least one number.\"\n",
    "    \n",
    "    if not any(char.isupper() for char in password):\n",
    "        return \"Weak: Password must include at least one uppercase letter.\"\n",
    "    \n",
    "    if not any(char.islower() for char in password):\n",
    "        return \"Weak: Password must include at least one lowercase letter.\"\n",
    "    \n",
    "    if not re.search(r'[!@#$%^&*(),.?\":{}|<>]', password):\n",
    "        return \"Medium: Add special characters to make your password stronger.\"\n",
    "    \n",
    "    return \"Strong: Your password is secure!\"\n",
    "\n",
    "\n",
    "def password_checker():\n",
    "    print(\"Welcome to the Password Strength Checker!\")\n",
    "\n",
    "    while True:\n",
    "        password = input(\"\\nEnter your password (or type 'exit' to quit): \")\n",
    "        \n",
    "        if password.lower() == \"exit\":\n",
    "            print(\"Thank you for using the Password Strength Checker! Goodbye!\")\n",
    "            break\n",
    "        \n",
    "        result = check_password_strength(password)\n",
    "        print(result)\n",
    "\n",
    "\n",
    "if __name__ == \"__main__\":\n",
    "    password_checker()\n"
   ]
  }
 ],
 "metadata": {
  "kernelspec": {
   "display_name": "Python [conda env:base] *",
   "language": "python",
   "name": "conda-base-py"
  },
  "language_info": {
   "codemirror_mode": {
    "name": "ipython",
    "version": 3
   },
   "file_extension": ".py",
   "mimetype": "text/x-python",
   "name": "python",
   "nbconvert_exporter": "python",
   "pygments_lexer": "ipython3",
   "version": "3.12.7"
  }
 },
 "nbformat": 4,
 "nbformat_minor": 5
}
