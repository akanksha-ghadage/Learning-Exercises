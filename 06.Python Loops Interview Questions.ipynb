{
 "cells": [
  {
   "cell_type": "code",
   "execution_count": 1,
   "id": "547b537f-a951-4d84-9340-28677b0f6991",
   "metadata": {},
   "outputs": [
    {
     "name": "stdout",
     "output_type": "stream",
     "text": [
      "Hello World 1. Hello World 2. Hello World 3. "
     ]
    }
   ],
   "source": [
    "#THIS ASSIGNMENT INCLUDES STAR PATTERN TRIANGLES, FACTORIAL NO, FIBONACCI SERIES, \n",
    "#VOWEL COUNT AND LONGEST WORD IN A STRING.\n",
    "\n",
    "#Q1.Print the while loop output in same line.\n",
    "i = 1\n",
    "while i < 4:\n",
    "    print(f\"Hello World {i}.\", end = \" \")\n",
    "    i += 1"
   ]
  },
  {
   "cell_type": "code",
   "execution_count": 2,
   "id": "52178f20-da13-4a40-85a2-e210d44b179e",
   "metadata": {},
   "outputs": [
    {
     "name": "stdout",
     "output_type": "stream",
     "text": [
      "* \n",
      "* * \n",
      "* * * \n",
      "* * * * \n",
      "* * * * * \n",
      "\n",
      "\n",
      "* \n",
      "* * \n",
      "* * * \n",
      "* * * * \n",
      "* * * * * \n"
     ]
    }
   ],
   "source": [
    "#Q2.Print star pattern triangle using loops.\n",
    "\n",
    "#Method 1:\n",
    "n=5   #number of rows \n",
    "\n",
    "for i in range(1,n+1):   #Outer loop for each row i.e. 1 to 5\n",
    "    \n",
    "#Inner loop for printing stars in each row i.e. 1 star in 1st row, 2 stars in 2nd...   \n",
    "    for j in range(1,i+1):    \n",
    "         print(\"*\", end = \" \")\n",
    "    print()\n",
    "\n",
    "\n",
    "#Method 2:\n",
    "print(\"\\n\")\n",
    "for i in range(1, n+1):\n",
    "    print(\"* \" * i)\n"
   ]
  },
  {
   "cell_type": "code",
   "execution_count": 3,
   "id": "423a78bc-8d5d-48c1-ae24-8db7038eb565",
   "metadata": {},
   "outputs": [
    {
     "name": "stdout",
     "output_type": "stream",
     "text": [
      "* * * * * \n",
      "* * * * \n",
      "* * * \n",
      "* * \n",
      "* \n",
      "\n",
      "\n",
      "* * * * * \n",
      "* * * * \n",
      "* * * \n",
      "* * \n",
      "* \n"
     ]
    }
   ],
   "source": [
    "#Q3.Print star pattern inverted triangle.\n",
    "#Method 1:\n",
    "n=5\n",
    "for i in range(n,0,-1):\n",
    "    for j in range(1, i+1):\n",
    "        print(\"*\", end = \" \")\n",
    "    print()\n",
    "\n",
    "#Method 2:\n",
    "print(\"\\n\")\n",
    "for i in range(n,0,-1):\n",
    "    print(\"* \" * i)\n",
    "    "
   ]
  },
  {
   "cell_type": "code",
   "execution_count": 4,
   "id": "2212515a-682e-4548-b071-365d440c2833",
   "metadata": {},
   "outputs": [
    {
     "name": "stdout",
     "output_type": "stream",
     "text": [
      "    *\n",
      "   ***\n",
      "  *****\n",
      " *******\n",
      "*********\n"
     ]
    }
   ],
   "source": [
    "#Q4.Print star pattern pyramid.\n",
    "\n",
    "n= 5\n",
    "for i in range(1, n+1):\n",
    "    print(' ' * (n- i), end = \"\")   # printing leading spaces\n",
    "                                    # eg. for 1st iteration n-i = 5-1 = 4spaces,\n",
    "                                    # for 2nd iteration n-i = 5- 2 = 3 spaces...\n",
    "    print(\"*\" * (2 * i - 1))\n",
    "    "
   ]
  },
  {
   "cell_type": "code",
   "execution_count": 5,
   "id": "1ff462c5-5c21-46c4-a328-54b5f7034808",
   "metadata": {},
   "outputs": [
    {
     "name": "stdin",
     "output_type": "stream",
     "text": [
      "Enter a number: 7\n"
     ]
    },
    {
     "name": "stdout",
     "output_type": "stream",
     "text": [
      "Factorial of 7 is 5040.\n"
     ]
    },
    {
     "name": "stdin",
     "output_type": "stream",
     "text": [
      "Enter a number: 10\n"
     ]
    },
    {
     "name": "stdout",
     "output_type": "stream",
     "text": [
      "Factorial of 10 is 3628800.\n"
     ]
    }
   ],
   "source": [
    "#Q5.Write a program to find the factorial of a given number.\n",
    "#Method 1:\n",
    "num = int(input(\"Enter a number:\"))\n",
    "factorial = 1\n",
    "if num == 0:\n",
    "    print(\"Factorial of 0 is 1.\")\n",
    "else:\n",
    "    for i in range(1, num + 1):   #If num = 5, the loop goes: i = 1,2,3,4,5.\n",
    "        factorial *= i    #eg. factorial * i = 1*1 = 1, 1*2 = 2, 2*3 = 6, 6*4=24...\n",
    "    print(f\"Factorial of {num} is {factorial}.\")\n",
    "\n",
    "#Method 2:\n",
    "def factorial(num):\n",
    "    fact = 1\n",
    "    while num>0:\n",
    "        fact *= num   #multiply fact by given number (i.e.eg.1*5 = 5, 5*4 = 20...)\n",
    "        num -= 1      #decrease number by 1 until num > 0\n",
    "    return fact\n",
    "    \n",
    "number = int(input(\"Enter a number:\"))\n",
    "print(f\"Factorial of {number} is {factorial(number)}.\")\n"
   ]
  },
  {
   "cell_type": "code",
   "execution_count": 6,
   "id": "7c0e28bf-6b3a-4ba4-b26f-6fb445479994",
   "metadata": {},
   "outputs": [
    {
     "name": "stdin",
     "output_type": "stream",
     "text": [
      "Enter a string: Power BI\n"
     ]
    },
    {
     "name": "stdout",
     "output_type": "stream",
     "text": [
      "Number of vowels: 3\n"
     ]
    }
   ],
   "source": [
    "#Q6.Count the number of vowels in a string.\n",
    "\n",
    "def count_vowels(str):\n",
    "    vowels = \"aeiou\"\n",
    "    count = 0\n",
    "    for char in str:    #loops through each character\n",
    "        if char.lower() in vowels:  #checks if current character (coverted to lower case) is a vowel\n",
    "            count += 1\n",
    "    return count\n",
    "\n",
    "string = input(\"Enter a string:\")\n",
    "print(f\"Number of vowels: {count_vowels(string)}\")\n"
   ]
  },
  {
   "cell_type": "code",
   "execution_count": 7,
   "id": "35059566-b5d1-4140-adab-9b7169fd96b3",
   "metadata": {},
   "outputs": [
    {
     "name": "stdout",
     "output_type": "stream",
     "text": [
      "The longest word is: analyst.\n"
     ]
    }
   ],
   "source": [
    "#Q7.Find the longest word in a sentence using a for loop.\n",
    "\n",
    "sentence = \"I am a data analyst.\"\n",
    "words = sentence.split()\n",
    "longest_word = \"\"    # Will store the word with the maximum length. \n",
    "\n",
    "for word in words:     #Go through each word in the list.\n",
    "    if len(word) > len(longest_word):\n",
    "        longest_word = word    #if the condition is true, update the longest_word to the current word.\n",
    "        \n",
    "print(\"The longest word is:\", longest_word)\n"
   ]
  },
  {
   "cell_type": "code",
   "execution_count": 8,
   "id": "20f177c7-6dd2-4b7e-b132-af47aa736cb5",
   "metadata": {},
   "outputs": [
    {
     "name": "stdin",
     "output_type": "stream",
     "text": [
      "Enter a number greater than 10: 6\n"
     ]
    },
    {
     "name": "stdout",
     "output_type": "stream",
     "text": [
      "Number is not greater than 10, try again!\n"
     ]
    },
    {
     "name": "stdin",
     "output_type": "stream",
     "text": [
      "Enter a number greater than 10: 15\n"
     ]
    },
    {
     "name": "stdout",
     "output_type": "stream",
     "text": [
      "15 is a valid number.\n"
     ]
    }
   ],
   "source": [
    "#Q8.\"do while\" loop in python. how to do it?\n",
    "\n",
    "while True:\n",
    "    num = int(input(\"Enter a number greater than 10:\"))\n",
    "    if num > 10:\n",
    "        print(f\"{num} is a valid number.\")\n",
    "        break\n",
    "    else:\n",
    "        print(\"Number is not greater than 10, try again!\")\n",
    "    "
   ]
  },
  {
   "cell_type": "code",
   "execution_count": 9,
   "id": "c1278cbd-c42f-45f2-ae40-e85ce5040a92",
   "metadata": {},
   "outputs": [
    {
     "name": "stdin",
     "output_type": "stream",
     "text": [
      "Enter the number of terms: 10\n"
     ]
    },
    {
     "name": "stdout",
     "output_type": "stream",
     "text": [
      "0 1 1 2 3 5 8 13 21 34 "
     ]
    },
    {
     "name": "stdin",
     "output_type": "stream",
     "text": [
      "Enter the number of terms: 8\n"
     ]
    },
    {
     "name": "stdout",
     "output_type": "stream",
     "text": [
      "0 1 1 2 3 5 8 13 "
     ]
    }
   ],
   "source": [
    "#Q9.Write a program to print first N numbers in the fibonacci sequence using a while loop.\n",
    "\n",
    "#Method 1: Using while loop\n",
    "def fibonacci_while(n):\n",
    "    a,b = 0,1\n",
    "    count = 0\n",
    "    while count < n:\n",
    "        print(a, end = \" \")\n",
    "        a,b = b, a+b\n",
    "        count += 1\n",
    "\n",
    "number1= int(input(\"Enter the number of terms:\"))\n",
    "fibonacci_while(number1)\n",
    "\n",
    "#Method 2: Using for loop\n",
    "def fibonacci_for(n):\n",
    "    a,b = 0,1\n",
    "    for _ in range(n):\n",
    "        print(a, end = \" \")\n",
    "        a,b = b, a+b\n",
    "\n",
    "number2= int(input(\"Enter the number of terms:\"))\n",
    "fibonacci_for(number2)\n"
   ]
  }
 ],
 "metadata": {
  "kernelspec": {
   "display_name": "Python [conda env:base] *",
   "language": "python",
   "name": "conda-base-py"
  },
  "language_info": {
   "codemirror_mode": {
    "name": "ipython",
    "version": 3
   },
   "file_extension": ".py",
   "mimetype": "text/x-python",
   "name": "python",
   "nbconvert_exporter": "python",
   "pygments_lexer": "ipython3",
   "version": "3.12.7"
  }
 },
 "nbformat": 4,
 "nbformat_minor": 5
}
