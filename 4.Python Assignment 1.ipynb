{
 "cells": [
  {
   "cell_type": "code",
   "execution_count": 33,
   "id": "78d8b59f-9654-4aa1-af5b-205eced9302b",
   "metadata": {},
   "outputs": [
    {
     "name": "stdout",
     "output_type": "stream",
     "text": [
      "Python is fun.\n",
      "\"Quotes\" and 'single quotes' can be tricky.\n",
      "Python is fun.\n",
      "\"Quotes\" and 'single quotes' can be tricky.\n"
     ]
    }
   ],
   "source": [
    "#This assignmentcovers data types, variables, the input() function and type casting in Python. \n",
    "\n",
    "#Q1.Write a Python program that prints the following text exactly as it appears.\n",
    "#Python is fun.\n",
    "#\"Quotes\" and 'single quotes' can be tricky.\n",
    "\n",
    "#Method 1:\n",
    "print('''Python is fun.\\n\"Quotes\" and 'single quotes' can be tricky.''')\n",
    "#Method 2:\n",
    "print(\"Python is fun.\\n\\\"Quotes\\\" and 'single quotes' can be tricky.\")"
   ]
  },
  {
   "cell_type": "code",
   "execution_count": 37,
   "id": "74865058-7053-4df9-84c2-9de143f5f5de",
   "metadata": {},
   "outputs": [
    {
     "name": "stdout",
     "output_type": "stream",
     "text": [
      "I'm Akanksha a 24 year old who lives in Pune\n",
      "I'm Akanksha a 24 year old who lives in Pune\n"
     ]
    }
   ],
   "source": [
    "#Q2.For a business create 3 variables to store your name, age and city. Print a sentence that uses these variables.\n",
    "\n",
    "name = 'Akanksha'\n",
    "age = 24\n",
    "city = 'Pune'\n",
    "#Method 1:\n",
    "print(\"I'm\", name, \"a\", age,\"year old who lives in\",city,)\n",
    "#Method 2:\n",
    "print(f\"I'm {name} a {age} year old who lives in {city}\")"
   ]
  },
  {
   "cell_type": "code",
   "execution_count": 27,
   "id": "de654011-6294-4b54-a12e-f3d0100eddcf",
   "metadata": {},
   "outputs": [
    {
     "name": "stdout",
     "output_type": "stream",
     "text": [
      "Percentage calculator-\n"
     ]
    },
    {
     "name": "stdin",
     "output_type": "stream",
     "text": [
      "Enter the Student Name:  Akanksha\n",
      "Enter Python Marks:  95\n",
      "Enter SQL Marks:  100\n",
      "Enter Power BI Marks:  97\n"
     ]
    },
    {
     "name": "stdout",
     "output_type": "stream",
     "text": [
      "The result of Akanksha is 97%. Well done!\n"
     ]
    }
   ],
   "source": [
    "#Q3.Write a python program to input student name and marks of 3 subjects. Print name & percentage in output.\n",
    "\n",
    "print(\"Percentage calculator-\")\n",
    "student_name= input('Enter the Student Name: ')\n",
    "python_marks= int(input('Enter Python Marks: '))\n",
    "sql_marks= int(input('Enter SQL Marks: '))\n",
    "power_bi_marks= int(input('Enter Power BI Marks: '))\n",
    "percentage= ((python_marks+ sql_marks+ power_bi_marks)/300)*100\n",
    "print(f'The result of {student_name} is {int(percentage)}%. Well done!')"
   ]
  },
  {
   "cell_type": "code",
   "execution_count": 39,
   "id": "0ed1c749-1587-4bb1-ba44-4609e1251025",
   "metadata": {},
   "outputs": [
    {
     "name": "stdin",
     "output_type": "stream",
     "text": [
      "Enter you name:  Akanksha\n",
      "Enter your age:  24\n",
      "Enter your height:  5.4\n",
      "Are you a student(yes/no):  yes\n"
     ]
    },
    {
     "name": "stdout",
     "output_type": "stream",
     "text": [
      "{'name': 'Akanksha', 'age': 24, 'height': 5.4, 'status': 'yes'}\n"
     ]
    }
   ],
   "source": [
    "#Q4.Write a python program that collects multiple types of data(eg. name, age, height and student status) from user input.\n",
    "#Store them in a dictionary and print out the collected data.\n",
    "\n",
    "user_data= {}\n",
    "user_data['name']= input('Enter you name: ')\n",
    "user_data['age']= int(input('Enter your age: '))\n",
    "user_data['height']= float(input('Enter your height: '))\n",
    "user_data['status']= input('Are you a student(yes/no): ')\n",
    "print(user_data)"
   ]
  },
  {
   "cell_type": "code",
   "execution_count": 3,
   "id": "40054350-fd8c-493f-ba1c-c1038564540f",
   "metadata": {},
   "outputs": [
    {
     "name": "stdout",
     "output_type": "stream",
     "text": [
      "Value is False\n"
     ]
    }
   ],
   "source": [
    "#Q5.What is the output and reason of the following program.\n",
    "\n",
    "value= None\n",
    "if value:\n",
    "    print(\"Value is True\")        \n",
    "else:\n",
    "    print(\"Value is False\")\n",
    "\n",
    "#Reason: None in python means \"No value\" or \"null\" and treated as false. So, the else block is executed.\n"
   ]
  }
 ],
 "metadata": {
  "kernelspec": {
   "display_name": "Python [conda env:base] *",
   "language": "python",
   "name": "conda-base-py"
  },
  "language_info": {
   "codemirror_mode": {
    "name": "ipython",
    "version": 3
   },
   "file_extension": ".py",
   "mimetype": "text/x-python",
   "name": "python",
   "nbconvert_exporter": "python",
   "pygments_lexer": "ipython3",
   "version": "3.12.7"
  }
 },
 "nbformat": 4,
 "nbformat_minor": 5
}
