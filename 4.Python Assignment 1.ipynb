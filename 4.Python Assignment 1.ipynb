{
 "cells": [
  {
   "cell_type": "code",
   "execution_count": 33,
   "id": "78d8b59f-9654-4aa1-af5b-205eced9302b",
   "metadata": {},
   "outputs": [
    {
     "name": "stdout",
     "output_type": "stream",
     "text": [
      "Python is fun.\n",
      "\"Quotes\" and 'single quotes' can be tricky.\n",
      "Python is fun.\n",
      "\"Quotes\" and 'single quotes' can be tricky.\n"
     ]
    }
   ],
   "source": [
    "# THIS ASSIGNMENT COVERS DATA TYPES, VARIABLES, THE INPUT() FUNCTION, TYPE CASTING, OPERATORS\n",
    "# AND IF-ELSE CONDITIONAL STATEMENTS. \n",
    "\n",
    "#Q1.Write a Python program that prints the following text exactly as it appears.\n",
    "#Python is fun.\n",
    "#\"Quotes\" and 'single quotes' can be tricky.\n",
    "\n",
    "#Method 1:\n",
    "print('''Python is fun.\\n\"Quotes\" and 'single quotes' can be tricky.''')\n",
    "#Method 2:\n",
    "print(\"Python is fun.\\n\\\"Quotes\\\" and 'single quotes' can be tricky.\")"
   ]
  },
  {
   "cell_type": "code",
   "execution_count": 37,
   "id": "74865058-7053-4df9-84c2-9de143f5f5de",
   "metadata": {},
   "outputs": [
    {
     "name": "stdout",
     "output_type": "stream",
     "text": [
      "I'm Akanksha a 24 year old who lives in Pune\n",
      "I'm Akanksha a 24 year old who lives in Pune\n"
     ]
    }
   ],
   "source": [
    "#Q2.For a business create 3 variables to store your name, age and city. \n",
    "#Print a sentence that uses these variables.\n",
    "\n",
    "name = 'Akanksha'\n",
    "age = 24\n",
    "city = 'Pune'\n",
    "#Method 1:\n",
    "print(\"I'm\", name, \"a\", age,\"year old who lives in\",city,)\n",
    "#Method 2:\n",
    "print(f\"I'm {name} a {age} year old who lives in {city}\")"
   ]
  },
  {
   "cell_type": "code",
   "execution_count": 27,
   "id": "de654011-6294-4b54-a12e-f3d0100eddcf",
   "metadata": {},
   "outputs": [
    {
     "name": "stdout",
     "output_type": "stream",
     "text": [
      "Percentage calculator-\n"
     ]
    },
    {
     "name": "stdin",
     "output_type": "stream",
     "text": [
      "Enter the Student Name:  Akanksha\n",
      "Enter Python Marks:  95\n",
      "Enter SQL Marks:  100\n",
      "Enter Power BI Marks:  97\n"
     ]
    },
    {
     "name": "stdout",
     "output_type": "stream",
     "text": [
      "The result of Akanksha is 97%. Well done!\n"
     ]
    }
   ],
   "source": [
    "#Q3.Write a python program to input student name and marks of 3 subjects. \n",
    "#Print name & percentage in output.\n",
    "\n",
    "print(\"Percentage calculator-\")\n",
    "student_name= input('Enter the Student Name: ')\n",
    "python_marks= int(input('Enter Python Marks: '))\n",
    "sql_marks= int(input('Enter SQL Marks: '))\n",
    "power_bi_marks= int(input('Enter Power BI Marks: '))\n",
    "percentage= ((python_marks+ sql_marks+ power_bi_marks)/300)*100\n",
    "print(f'The result of {student_name} is {int(percentage)}%. Well done!')"
   ]
  },
  {
   "cell_type": "code",
   "execution_count": 39,
   "id": "0ed1c749-1587-4bb1-ba44-4609e1251025",
   "metadata": {},
   "outputs": [
    {
     "name": "stdin",
     "output_type": "stream",
     "text": [
      "Enter you name:  Akanksha\n",
      "Enter your age:  24\n",
      "Enter your height:  5.4\n",
      "Are you a student(yes/no):  yes\n"
     ]
    },
    {
     "name": "stdout",
     "output_type": "stream",
     "text": [
      "{'name': 'Akanksha', 'age': 24, 'height': 5.4, 'status': 'yes'}\n"
     ]
    }
   ],
   "source": [
    "#Q4.Write a python program that collects multiple types of data\n",
    "#(eg. name, age, height and student status) from user input. \n",
    "#Store them in a dictionary and print out the collected data.\n",
    "\n",
    "user_data= {}\n",
    "user_data['name']= input('Enter you name: ')\n",
    "user_data['age']= int(input('Enter your age: '))\n",
    "user_data['height']= float(input('Enter your height: '))\n",
    "user_data['status']= input('Are you a student(yes/no): ')\n",
    "print(user_data)"
   ]
  },
  {
   "cell_type": "code",
   "execution_count": 3,
   "id": "40054350-fd8c-493f-ba1c-c1038564540f",
   "metadata": {},
   "outputs": [
    {
     "name": "stdout",
     "output_type": "stream",
     "text": [
      "Value is False\n"
     ]
    }
   ],
   "source": [
    "#Q5.What is the output and reason of the following program.\n",
    "\n",
    "value= None\n",
    "if value:\n",
    "    print(\"Value is True\")        \n",
    "else:\n",
    "    print(\"Value is False\")\n",
    "\n",
    "#Reason: None in python means \"No value\" or \"null\" and treated as false. \n",
    "#So, the else block is executed.\n"
   ]
  },
  {
   "cell_type": "code",
   "execution_count": 17,
   "id": "dd97d41f-22a6-4c5f-b284-db510b7bec3f",
   "metadata": {},
   "outputs": [
    {
     "name": "stdin",
     "output_type": "stream",
     "text": [
      "Enter the year (eg. 2024):  3000\n"
     ]
    },
    {
     "name": "stdout",
     "output_type": "stream",
     "text": [
      "The year 3000 is not a leap year.\n"
     ]
    }
   ],
   "source": [
    "#Q6.LEAP YEAR: Write a program to determine if given year is a leap year using user input.\n",
    "#A year is a leap year if- a.It is divisible by 4 and not divisible by 100.\n",
    "#b.It is divisible by 400.\n",
    "\n",
    "year= int(input(\"Enter the year (eg. 2024): \"))\n",
    "if (year%4==0 and year%100!=0) or (year%400==0):\n",
    "    print(f\"The year {year} is a leap year.\")\n",
    "else:\n",
    "    print(f\"The year {year} is not a leap year.\")"
   ]
  },
  {
   "cell_type": "code",
   "execution_count": 37,
   "id": "17b78a25-9135-49ec-9337-e4721c0f9121",
   "metadata": {},
   "outputs": [
    {
     "name": "stdin",
     "output_type": "stream",
     "text": [
      "Enter the user name:  akanksha-ghadage\n",
      "Enter the password:  pass123\n"
     ]
    },
    {
     "name": "stdout",
     "output_type": "stream",
     "text": [
      "Welcome! Login was successful.\n"
     ]
    }
   ],
   "source": [
    "#Q7.LOGIN AUTHENTICATION using conditional statement. \n",
    "#Assume you have a predefined username and password. \n",
    "#Write program that prompts user to enter username, password and check whether they match. \n",
    "#Provide appropriate messages for the following cases:\n",
    "# a.Both username and password are correct.\n",
    "# b.Username is correct but password is incorrect.\n",
    "# c.Username is incorrect.\n",
    "\n",
    "user_name= 'akanksha-ghadage'\n",
    "password= 'pass123'\n",
    "UserName= input(\"Enter the user name: \")\n",
    "Pass= input(\"Enter the password: \")\n",
    "if user_name == UserName:\n",
    "    if password == Pass:\n",
    "     print(\"Welcome! Login was successful.\")\n",
    "    else:\n",
    "     print(\"Incorrect Password!\")\n",
    "else:\n",
    "    print(\"Invalid Username!\")"
   ]
  }
 ],
 "metadata": {
  "kernelspec": {
   "display_name": "Python [conda env:base] *",
   "language": "python",
   "name": "conda-base-py"
  },
  "language_info": {
   "codemirror_mode": {
    "name": "ipython",
    "version": 3
   },
   "file_extension": ".py",
   "mimetype": "text/x-python",
   "name": "python",
   "nbconvert_exporter": "python",
   "pygments_lexer": "ipython3",
   "version": "3.12.7"
  }
 },
 "nbformat": 4,
 "nbformat_minor": 5
}
