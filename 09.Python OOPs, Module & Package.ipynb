{
 "cells": [
  {
   "cell_type": "code",
   "execution_count": 1,
   "id": "4e114b83-349a-4277-8fe9-37cf2a0a2a58",
   "metadata": {},
   "outputs": [
    {
     "name": "stdout",
     "output_type": "stream",
     "text": [
      "Akanksha is in class 11th,with 96%and is in team A.\n",
      "Rishabh is in class 12th,with 93%and is in team B.\n",
      "Akanksha\n"
     ]
    }
   ],
   "source": [
    "#THIS ASSIGNMENT COVERS OOPS(ABSTRACTION, ENCAPSULATION, POLYMORPHISM, INHERITANCE)\n",
    "#PYTHON MODULES AND PACKAGES.\n",
    "\n",
    "#Q1.Define a Student class with attributes - name, grade, percentage and team.\n",
    "#Include an __init__ method to initialize these attributes.\n",
    "#Add a method student_details that prints the student's details in the format:\n",
    "#\"<name> is in <grade> with <percentage>%, from team<team>.\"\n",
    "\n",
    "class Student:       #Class name starts with a capital letter.\n",
    "    def __init__(self, name, grade, percentage, team):\n",
    "        self.name = name\n",
    "        self.grade = grade\n",
    "        self.percentage = percentage\n",
    "        self.team = team\n",
    "\n",
    "    def student_details(self):\n",
    "        print(f\"{self.name} is in class {self.grade}th,with {self.percentage}%\"\n",
    "        f\"and is in team {self.team}.\")\n",
    "\n",
    "\n",
    "team1 = 'A'\n",
    "team2 = 'B'\n",
    "\n",
    "student1 = Student('Akanksha' , 11, 96, team1)\n",
    "student2 = Student('Rishabh' , 12, 93, team2)\n",
    "\n",
    "student1.student_details()\n",
    "student2.student_details()\n",
    "print(student1.name)\n"
   ]
  },
  {
   "cell_type": "code",
   "execution_count": 2,
   "id": "82429bb6-5b5a-439f-81f1-f378750ca904",
   "metadata": {},
   "outputs": [
    {
     "name": "stdout",
     "output_type": "stream",
     "text": [
      "Riya's marks:96\n",
      "Invalid marks. Must be between 0 and 100.\n",
      "Mona's marks:0\n"
     ]
    }
   ],
   "source": [
    "#Q2.Create a class Student that stores a student's name and marks privately. \n",
    "#Add methods to set and get the marks.[ENCAPSULATION]\n",
    "\n",
    "class Student:\n",
    "    def __init__(self, name):\n",
    "        self.name = name\n",
    "        self.__marks = 0     #We set deafault marks to 0.\n",
    "\n",
    "    def set_marks(self, marks):     \n",
    "        if 0 <= marks <= 100:       #Only if the marks are between 0 to 100, it updates them. \n",
    "            self.__marks = marks    #Otherwise, it shows an error.\n",
    "        else:\n",
    "            print(\"Invalid marks. Must be between 0 and 100.\")\n",
    "\n",
    "    def get_marks(self):        #since marks is private, this method lets you read it safely.\n",
    "        return self.__marks\n",
    "\n",
    "\n",
    "student = Student(\"Riya\")     #Object\n",
    "student.set_marks(96)\n",
    "print(f\"{student.name}'s marks:{student.get_marks()}\")\n",
    "\n",
    "student1 = Student(\"Mona\")     #Object\n",
    "student1.set_marks(-16)\n",
    "print(f\"{student1.name}'s marks:{student1.get_marks()}\")\n"
   ]
  },
  {
   "cell_type": "code",
   "execution_count": 3,
   "id": "4d2da697-7da7-464c-822b-7e2289bb10dc",
   "metadata": {},
   "outputs": [
    {
     "name": "stdout",
     "output_type": "stream",
     "text": [
      "Name:Harsh\n",
      "Age:25\n",
      "Student ID:S123\n"
     ]
    }
   ],
   "source": [
    "#Q3.Create a parent class Person with attributes name and age.\n",
    "#Create a child class Student that inherits from Person and adds an attribute student_id.\n",
    "#Write methods to display information from both classes.[INHERITANCE]\n",
    "\n",
    "class Person:      #Parent class\n",
    "    def __init__(self, name, age):\n",
    "        self.name = name\n",
    "        self.age = age\n",
    "\n",
    "    def person_info(self):\n",
    "        print(f\"Name:{self.name}\")\n",
    "        print(f\"Age:{self.age}\")\n",
    "\n",
    "class Student(Person):     #Child class\n",
    "    def __init__(self, name, age, student_id):\n",
    "        super().__init__(name, age)     #Call Persons __init__ method\n",
    "        self.student_id = student_id\n",
    "\n",
    "    def student_info(self):\n",
    "        self.person_info()     #Display name and age from parent class\n",
    "        print(f\"Student ID:{self.student_id}\")\n",
    "\n",
    "student = Student(\"Harsh\",25,\"S123\")\n",
    "student.student_info()\n"
   ]
  },
  {
   "cell_type": "code",
   "execution_count": 4,
   "id": "9b5b59c6-8621-455d-9e6c-ebccf0c4eb26",
   "metadata": {},
   "outputs": [
    {
     "name": "stdout",
     "output_type": "stream",
     "text": [
      "{'title': 'The Alchemist', 'author': 'Paulo Coelho', 'price': 299}\n"
     ]
    }
   ],
   "source": [
    "#Q4.Create a class called Book with the attributes: title, author and price.\n",
    "#Create an object of the class. Print the attributes in dictionary form.\n",
    "\n",
    "class Book:\n",
    "    def __init__(self, title, author, price):\n",
    "        self.title = title\n",
    "        self.author = author\n",
    "        self.price = price\n",
    "\n",
    "my_book = Book(\"The Alchemist\", \"Paulo Coelho\", 299)\n",
    "print(my_book.__dict__)     #__dict__ is a built-in attribute \n"
   ]
  },
  {
   "cell_type": "code",
   "execution_count": 5,
   "id": "ac437b91-0bd1-46eb-9689-e78c8527de7b",
   "metadata": {},
   "outputs": [
    {
     "name": "stdout",
     "output_type": "stream",
     "text": [
      "Mr. Yadav is a teacher.\n",
      "Mr. Desai is the principal.\n"
     ]
    }
   ],
   "source": [
    "#Q5.Create a base class Person with a method display_role(). Then create two subclasses \n",
    "#Teacher and Principal that override this method to show their specific roles.[POLYMORPHISM]\n",
    "\n",
    "class Person:\n",
    "    def __init__(self, name):\n",
    "        self.name = name\n",
    "\n",
    "    def display_role(self):\n",
    "        print(f\"{self.name} is a person.\")\n",
    "\n",
    "class Teacher(Person):\n",
    "    def display_role(self):                        \n",
    "        print(f\"{self.name} is a teacher.\")        \n",
    "class Principal(Person):\n",
    "    def display_role(self):\n",
    "        print(f\"{self.name} is the principal.\")\n",
    "\n",
    "ob1 = Teacher(\"Mr. Yadav\")\n",
    "ob2 = Principal(\"Mr. Desai\")\n",
    "\n",
    "ob1.display_role()                      #When we call method display_role(),  \n",
    "ob2.display_role()                      #each object gives a different output based on its class.\n",
    "    "
   ]
  },
  {
   "cell_type": "code",
   "execution_count": 6,
   "id": "60e02130-1608-49b6-a58f-7b92fad7612e",
   "metadata": {},
   "outputs": [
    {
     "name": "stdout",
     "output_type": "stream",
     "text": [
      "Circle area: 78.5\n",
      "Square area: 16\n",
      "Area calculations not defined in base class.\n"
     ]
    }
   ],
   "source": [
    "#Q6.Make a base class Shape with a method area(). Let Circle and Square classes give\n",
    "#their own formula for area.[ABSTRACTION]\n",
    "\n",
    "class Shape:\n",
    "    def area(self):\n",
    "        print(\"Area calculations not defined in base class.\")\n",
    "\n",
    "class Circle(Shape):\n",
    "    def __init__(self, radius):\n",
    "        self.radius = radius\n",
    "\n",
    "    def area(self):\n",
    "        return 3.14 * self.radius * self.radius\n",
    "\n",
    "\n",
    "class Square(Shape):\n",
    "    def __init__(self, side):\n",
    "        self.side = side\n",
    "\n",
    "    def area(self):\n",
    "        return self.side * self.side\n",
    "\n",
    "\n",
    "circle = Circle(5)\n",
    "square = Square(4)\n",
    "shape = Shape()\n",
    "\n",
    "print(\"Circle area:\", circle.area())       #This shows abstraction:\n",
    "print(\"Square area:\", square.area())       #hiding \"how\" area is calculated, only showing the result\n",
    "shape.area()  \n"
   ]
  },
  {
   "cell_type": "code",
   "execution_count": 32,
   "id": "6911134e-56e3-4fbb-ab53-bbf3b1bffd35",
   "metadata": {},
   "outputs": [
    {
     "name": "stdout",
     "output_type": "stream",
     "text": [
      "Overwriting greet.py\n"
     ]
    }
   ],
   "source": [
    "\n",
    "%%writefile greet.py                         \n",
    "\n",
    "def say_hello(name):\n",
    "    return print(f\"Hello, {name}! How are you?.\")\n",
    "\n",
    "def say_goodbye(name):\n",
    "    return print(f\"Goodbye {name}. It was nice meeting you.\")\n"
   ]
  },
  {
   "cell_type": "code",
   "execution_count": 8,
   "id": "73290258-0c01-460f-a7e0-e7bcddec5ac0",
   "metadata": {},
   "outputs": [
    {
     "name": "stdout",
     "output_type": "stream",
     "text": [
      "Hello, Aishwarya! How are you?.\n",
      "Goodbye Aishwarya. It was nice meeting you.\n"
     ]
    }
   ],
   "source": [
    "#Q7.How do you create and use python module ?\n",
    "\n",
    "import greet\n",
    "\n",
    "greet.say_hello(\"Aishwarya\")\n",
    "greet.say_goodbye(\"Aishwarya\")\n"
   ]
  },
  {
   "cell_type": "code",
   "execution_count": 34,
   "id": "0bdae1c2-767e-43cc-b0eb-f5480f7e3e49",
   "metadata": {},
   "outputs": [],
   "source": [
    "\n",
    "import os\n",
    "os.makedirs(\"mypackage\", exist_ok = True)       #For Q8\n"
   ]
  },
  {
   "cell_type": "code",
   "execution_count": 10,
   "id": "4c6628b7-2988-4540-bff9-384795a358b5",
   "metadata": {},
   "outputs": [
    {
     "name": "stdout",
     "output_type": "stream",
     "text": [
      "Overwriting mypackage/__init__.py\n"
     ]
    }
   ],
   "source": [
    "\n",
    "%%writefile mypackage/__init__.py\n",
    "#This file make mypackage a Python package.\n"
   ]
  },
  {
   "cell_type": "code",
   "execution_count": 11,
   "id": "1936dad4-6dd1-4f7f-a7e8-f4996e00359e",
   "metadata": {},
   "outputs": [
    {
     "name": "stdout",
     "output_type": "stream",
     "text": [
      "Overwriting mypackage/greeting.py\n"
     ]
    }
   ],
   "source": [
    "\n",
    "%%writefile mypackage/greeting.py\n",
    "def say_hi(name):\n",
    "    return f\"Hi, {name}!\"\n",
    "    "
   ]
  },
  {
   "cell_type": "code",
   "execution_count": 12,
   "id": "07976556-1efc-4c52-a547-3f6f8c4bca86",
   "metadata": {},
   "outputs": [
    {
     "name": "stdout",
     "output_type": "stream",
     "text": [
      "Overwriting mypackage/farewell.py\n"
     ]
    }
   ],
   "source": [
    "\n",
    "%%writefile mypackage/farewell.py\n",
    "def say_bye(name):\n",
    "    return f\"bye, {name}.\"\n"
   ]
  },
  {
   "cell_type": "code",
   "execution_count": 28,
   "id": "d586ff5e-f9dc-41c7-ba89-dc9d4ee89c3d",
   "metadata": {},
   "outputs": [
    {
     "name": "stdout",
     "output_type": "stream",
     "text": [
      "Hi, Prashant!\n",
      "bye, Prashant.\n"
     ]
    }
   ],
   "source": [
    "#Q8. How do you create and use Python package?\n",
    "from mypackage import greeting, farewell\n",
    "\n",
    "print(greeting.say_hi(\"Prashant\"))\n",
    "print(farewell.say_bye(\"Prashant\"))\n"
   ]
  }
 ],
 "metadata": {
  "kernelspec": {
   "display_name": "Python [conda env:base] *",
   "language": "python",
   "name": "conda-base-py"
  },
  "language_info": {
   "codemirror_mode": {
    "name": "ipython",
    "version": 3
   },
   "file_extension": ".py",
   "mimetype": "text/x-python",
   "name": "python",
   "nbconvert_exporter": "python",
   "pygments_lexer": "ipython3",
   "version": "3.12.7"
  }
 },
 "nbformat": 4,
 "nbformat_minor": 5
}
